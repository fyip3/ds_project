{
 "cells": [
  {
   "cell_type": "code",
   "execution_count": 1,
   "id": "c4fb898f-b463-4bd9-8f92-6329c70953a1",
   "metadata": {
    "tags": []
   },
   "outputs": [],
   "source": [
    "#include <iostream>"
   ]
  },
  {
   "cell_type": "code",
   "execution_count": 2,
   "id": "f0376e69-7b0d-4682-b889-796c003b13c6",
   "metadata": {
    "tags": []
   },
   "outputs": [
    {
     "name": "stdout",
     "output_type": "stream",
     "text": [
      "        ___            \n",
      "       / ||\\          \n",
      "       \\___/          \n",
      "         |             \n",
      "         |             \n",
      "        /|\\           \n",
      "       / | \\          \n",
      "         |             \n",
      "        / \\           \n",
      "       /   \\          \n",
      "      /     \\         \n",
      "   ^ This is Jermey   "
     ]
    },
    {
     "data": {
      "text/plain": [
       "@0x7fafd8b4db60"
      ]
     },
     "execution_count": 2,
     "metadata": {},
     "output_type": "execute_result"
    }
   ],
   "source": [
    "using namespace std; \n",
    "    cout << \"        ___            \" << \"\\n\";\n",
    "    cout << \"       / ||\\\\          \" << \"\\n\";\n",
    "    cout << \"       \\\\___/          \" << \"\\n\";\n",
    "    cout << \"         |             \" << \"\\n\";\n",
    "    cout << \"         |             \" << \"\\n\";\n",
    "    cout << \"        /|\\\\           \" << \"\\n\";\n",
    "    cout << \"       / | \\\\          \" << \"\\n\";\n",
    "    cout << \"         |             \" << \"\\n\";\n",
    "    cout << \"        / \\\\           \" << \"\\n\";\n",
    "    cout << \"       /   \\\\          \" << \"\\n\";\n",
    "    cout << \"      /     \\\\         \" << \"\\n\";\n",
    "    cout << \"   ^ This is Jermey   \";\n",
    "    "
   ]
  },
  {
   "cell_type": "code",
   "execution_count": 3,
   "id": "9f8561ad-a3fa-4bf8-8d96-1f768af11303",
   "metadata": {
    "tags": []
   },
   "outputs": [],
   "source": [
    "// ---\n",
    "// jupyter:\n",
    "//   jupytext:\n",
    "//     text_representation:\n",
    "//       extension: .cpp\n",
    "//       format_name: light\n",
    "//       format_version: '1.5'\n",
    "//       jupytext_version: 1.14.5\n",
    "//   kernelspec:\n",
    "//     display_name: C++17\n",
    "//     language: C++17\n",
    "//     name: xcpp17\n",
    "// ---\n",
    "\n",
    "// +\n",
    "\n",
    "class CPSC110\n",
    "{\n",
    "    public:\n",
    "    int main() {\n",
    "        int i = 0;\n",
    "        cpsc110(i);\n",
    "        return 0;\n",
    "    }\n",
    "\n",
    "    int cpsc110(int i) {\n",
    "        return i + cpsc110(i+1);\n",
    "    }\n",
    "    \n",
    "    \n",
    "};"
   ]
  },
  {
   "cell_type": "code",
   "execution_count": null,
   "id": "6448c0f6-924f-40f9-9e69-360092d7e8b2",
   "metadata": {},
   "outputs": [],
   "source": []
  }
 ],
 "metadata": {
  "kernelspec": {
   "display_name": "C++14",
   "language": "C++14",
   "name": "xcpp14"
  },
  "language_info": {
   "codemirror_mode": "text/x-c++src",
   "file_extension": ".cpp",
   "mimetype": "text/x-c++src",
   "name": "c++",
   "version": "14"
  },
  "widgets": {
   "application/vnd.jupyter.widget-state+json": {
    "state": {},
    "version_major": 2,
    "version_minor": 0
   }
  }
 },
 "nbformat": 4,
 "nbformat_minor": 5
}

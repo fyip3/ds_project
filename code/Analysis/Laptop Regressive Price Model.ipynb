{
 "cells": [
  {
   "cell_type": "markdown",
   "id": "f2af6d49-21c8-4261-bc0e-7dda43222c63",
   "metadata": {},
   "source": [
    "# Regression Model"
   ]
  },
  {
   "cell_type": "markdown",
   "id": "98e76ede-a92e-437e-9bbf-49959f803875",
   "metadata": {},
   "source": [
    "## Introduction\n",
    "In today's modern age, technological devices have become an integral part of society. With ever-evolving computer components, it can be difficult to conduct research on a laptop that fits an individual's specific needs. In our algorithm, we will be providing price estimates based on the hardware specifications provided in our dataset. For instance, we could use variables such as CPU speed and RAM size to predict the price of a laptop. Ultimately, our goal is to assist the users and companies by providing a price estimate for their ideal laptop, thus, reducing the time needed for research. Thus our predictive question would be **\"What will be the price of a laptop based on its specifications?\"**. The dataset we will be using is an open-source file from Kaggle. Link for the original dataset: https://www.kaggle.com/datasets/ehtishamsadiq/uncleaned-laptop-price-dataset/data'"
   ]
  },
  {
   "cell_type": "markdown",
   "id": "30c72561-daae-4d31-befc-2078bbddd1f9",
   "metadata": {},
   "source": [
    "## Preparing Libraries and Setup"
   ]
  },
  {
   "cell_type": "markdown",
   "id": "f6a7aa19-df4e-4306-a64f-583915376a75",
   "metadata": {},
   "source": [
    "Unfortunately, the python language does not natively support everything we will use to create this model, and it would be inefficient to re-invent the wheel. As such, we will be using the following libraries in our code:\n",
    "#### **Pandas**\n",
    "##### We use the DataFrame object from pandas to store and manipulate our data\n",
    "\n",
    "#### **Altair**\n",
    "##### Visualization library that allows us to make charts to help see the data\n",
    "\n",
    "#### **Numpy**\n",
    "##### Math library. We use it to set seeds and convert number Types. Also used by pandas in many operations\n",
    "\n",
    "#### **Scikit learn**\n",
    "##### Machine learning library. This will be the backbone of our regression model. We use it to build and train the model on our data, and to test the results.\n",
    " \n",
    "#### **Matplotlib**\n",
    "##### (insert something here)\n",
    "\n"
   ]
  },
  {
   "cell_type": "code",
   "execution_count": 1,
   "id": "680efe34-f31e-4651-b993-bb51f5e3e7e1",
   "metadata": {
    "tags": []
   },
   "outputs": [],
   "source": [
    "### Uncomment cell below whenever Altair stops working to reinstall latest version\n",
    "\n",
    "## For some reason, whenever the jupyter server restarts, it\n",
    "## sends you back to the old version of altair (4.2.2)"
   ]
  },
  {
   "cell_type": "code",
   "execution_count": 2,
   "id": "831da9e0-5459-4066-8b21-9be3472887ee",
   "metadata": {
    "tags": []
   },
   "outputs": [],
   "source": [
    "# pip install -U altair      #<---- UNCOMMENT"
   ]
  },
  {
   "cell_type": "code",
   "execution_count": 3,
   "id": "46aa1c55-b50b-4f27-b3b3-a5ce45ea3a1a",
   "metadata": {
    "tags": []
   },
   "outputs": [
    {
     "data": {
      "text/plain": [
       "'5.2.0'"
      ]
     },
     "execution_count": 3,
     "metadata": {},
     "output_type": "execute_result"
    }
   ],
   "source": [
    "## If the text below says anything below version 5.0.0,\n",
    "## run the code above\n",
    "import altair as alt; alt.__version__"
   ]
  },
  {
   "cell_type": "code",
   "execution_count": 8,
   "id": "7743bd78-0870-40e6-9604-a012bdb8b69e",
   "metadata": {
    "tags": []
   },
   "outputs": [],
   "source": [
    "### Run this cell before continuing.\n",
    "\n",
    "import altair as alt\n",
    "import matplotlib.pyplot as plt\n",
    "import numpy as np\n",
    "import pandas as pd\n",
    "from sklearn import set_config\n",
    "from sklearn.model_selection import train_test_split\n",
    "\n",
    "\n",
    "# Simplify working with large datasets in Altair\n",
    "alt.data_transformers.disable_max_rows()\n",
    "\n",
    "# Output dataframes instead of arrays\n",
    "set_config(transform_output=\"pandas\")\n",
    "    \n",
    "np.random.seed(1137110237) #Randomly picked seed"
   ]
  },
  {
   "cell_type": "markdown",
   "id": "b259d0c0-4837-4268-a024-adfa48d646ca",
   "metadata": {},
   "source": [
    "### Importing and Wrangling Data"
   ]
  },
  {
   "cell_type": "markdown",
   "id": "da19c50b-d7c4-4123-8e40-dcaa3365895c",
   "metadata": {},
   "source": [
    "(INSERT DESCRIPTION)\n",
    "<br> Link for the original dataset: https://www.kaggle.com/datasets/ehtishamsadiq/uncleaned-laptop-price-dataset/data'"
   ]
  },
  {
   "cell_type": "code",
   "execution_count": 9,
   "id": "aeb7bb2e-1d0c-4f75-a9ca-59deb34c484c",
   "metadata": {
    "tags": []
   },
   "outputs": [
    {
     "data": {
      "text/plain": [
       "Company               19\n",
       "TypeName               6\n",
       "ScreenSize_Inches     24\n",
       "ScreenResolution      40\n",
       "Cpu                  118\n",
       "Memory_GB             10\n",
       "Storage               13\n",
       "Gpu                  110\n",
       "OpSys                  9\n",
       "Weight_Kg            180\n",
       "Price_CAD            777\n",
       "dtype: int64"
      ]
     },
     "execution_count": 9,
     "metadata": {},
     "output_type": "execute_result"
    }
   ],
   "source": [
    "# Loading csv file data as a pandas dataframe\n",
    "laptop_data = pd.read_csv(\"https://raw.githubusercontent.com/fyip3/ds_project/main/data/laptopData.csv\")\n",
    "\n",
    "# Cleaning data\n",
    "laptop_data = laptop_data.drop(columns=[\"Unnamed: 0\"])          # Filtering Columns\n",
    "laptop_data = laptop_data.dropna()                              # Removing redundant non-numeric part\n",
    "laptop_data['Ram'] = laptop_data['Ram'].str.extract('(\\d+)', expand=False)\n",
    "laptop_data['Weight'] = laptop_data['Weight'].str.removesuffix(\"kg\")\n",
    "laptop_data['Memory'] = laptop_data['Memory'].str.extract('(\\d+)', expand=False)\n",
    "laptop_data[\"Price\"] = laptop_data[\"Price\"] * 0.017                         # Convert Price from INR to CAD\n",
    "laptop_data = laptop_data.rename(columns={\"Inches\": \"ScreenSize_Inches\", \"Ram\": \"Memory_GB\", \"Memory\" : \"Storage\", \"Weight\" : \"Weight_Kg\", \"Price\" : \"Price_CAD\"})\n",
    "# Convert columns from strings to int/float\n",
    "laptop_data[\"Memory_GB\"] = pd.to_numeric(laptop_data.Memory_GB, errors='coerce')\n",
    "laptop_data[\"Weight_Kg\"] = pd.to_numeric(laptop_data.Weight_Kg, errors='coerce')\n",
    "laptop_data[\"ScreenSize_Inches\"] = pd.to_numeric(laptop_data.ScreenSize_Inches, errors='coerce')\n",
    "laptop_data[\"Storage\"] = pd.to_numeric(laptop_data.Storage, errors='coerce')\n",
    "laptop_data.dtypes\n",
    "count = laptop_data.nunique()  #number of unique datapoints for each varaible\n",
    "count"
   ]
  },
  {
   "cell_type": "code",
   "execution_count": 10,
   "id": "9628aff3-23b2-4aa2-b0d4-72146dc20086",
   "metadata": {
    "tags": []
   },
   "outputs": [
    {
     "data": {
      "text/html": [
       "<div>\n",
       "<style scoped>\n",
       "    .dataframe tbody tr th:only-of-type {\n",
       "        vertical-align: middle;\n",
       "    }\n",
       "\n",
       "    .dataframe tbody tr th {\n",
       "        vertical-align: top;\n",
       "    }\n",
       "\n",
       "    .dataframe thead th {\n",
       "        text-align: right;\n",
       "    }\n",
       "</style>\n",
       "<table border=\"1\" class=\"dataframe\">\n",
       "  <thead>\n",
       "    <tr style=\"text-align: right;\">\n",
       "      <th></th>\n",
       "      <th>Company</th>\n",
       "      <th>TypeName</th>\n",
       "      <th>ScreenSize_Inches</th>\n",
       "      <th>ScreenResolution</th>\n",
       "      <th>Cpu</th>\n",
       "      <th>Memory_GB</th>\n",
       "      <th>Storage</th>\n",
       "      <th>Gpu</th>\n",
       "      <th>OpSys</th>\n",
       "      <th>Weight_Kg</th>\n",
       "      <th>Price_CAD</th>\n",
       "    </tr>\n",
       "  </thead>\n",
       "  <tbody>\n",
       "    <tr>\n",
       "      <th>0</th>\n",
       "      <td>Apple</td>\n",
       "      <td>Ultrabook</td>\n",
       "      <td>13.3</td>\n",
       "      <td>IPS Panel Retina Display 2560x1600</td>\n",
       "      <td>Intel Core i5 2.3GHz</td>\n",
       "      <td>8</td>\n",
       "      <td>128.0</td>\n",
       "      <td>Intel Iris Plus Graphics 640</td>\n",
       "      <td>macOS</td>\n",
       "      <td>1.37</td>\n",
       "      <td>1213.437614</td>\n",
       "    </tr>\n",
       "    <tr>\n",
       "      <th>1</th>\n",
       "      <td>Apple</td>\n",
       "      <td>Ultrabook</td>\n",
       "      <td>13.3</td>\n",
       "      <td>1440x900</td>\n",
       "      <td>Intel Core i5 1.8GHz</td>\n",
       "      <td>8</td>\n",
       "      <td>128.0</td>\n",
       "      <td>Intel HD Graphics 6000</td>\n",
       "      <td>macOS</td>\n",
       "      <td>1.34</td>\n",
       "      <td>814.223894</td>\n",
       "    </tr>\n",
       "    <tr>\n",
       "      <th>2</th>\n",
       "      <td>HP</td>\n",
       "      <td>Notebook</td>\n",
       "      <td>15.6</td>\n",
       "      <td>Full HD 1920x1080</td>\n",
       "      <td>Intel Core i5 7200U 2.5GHz</td>\n",
       "      <td>8</td>\n",
       "      <td>256.0</td>\n",
       "      <td>Intel HD Graphics 620</td>\n",
       "      <td>No OS</td>\n",
       "      <td>1.86</td>\n",
       "      <td>520.812000</td>\n",
       "    </tr>\n",
       "    <tr>\n",
       "      <th>3</th>\n",
       "      <td>Apple</td>\n",
       "      <td>Ultrabook</td>\n",
       "      <td>15.4</td>\n",
       "      <td>IPS Panel Retina Display 2880x1800</td>\n",
       "      <td>Intel Core i7 2.7GHz</td>\n",
       "      <td>16</td>\n",
       "      <td>512.0</td>\n",
       "      <td>AMD Radeon Pro 455</td>\n",
       "      <td>macOS</td>\n",
       "      <td>1.83</td>\n",
       "      <td>2298.320712</td>\n",
       "    </tr>\n",
       "    <tr>\n",
       "      <th>4</th>\n",
       "      <td>Apple</td>\n",
       "      <td>Ultrabook</td>\n",
       "      <td>13.3</td>\n",
       "      <td>IPS Panel Retina Display 2560x1600</td>\n",
       "      <td>Intel Core i5 3.1GHz</td>\n",
       "      <td>8</td>\n",
       "      <td>256.0</td>\n",
       "      <td>Intel Iris Plus Graphics 650</td>\n",
       "      <td>macOS</td>\n",
       "      <td>1.37</td>\n",
       "      <td>1633.628736</td>\n",
       "    </tr>\n",
       "    <tr>\n",
       "      <th>...</th>\n",
       "      <td>...</td>\n",
       "      <td>...</td>\n",
       "      <td>...</td>\n",
       "      <td>...</td>\n",
       "      <td>...</td>\n",
       "      <td>...</td>\n",
       "      <td>...</td>\n",
       "      <td>...</td>\n",
       "      <td>...</td>\n",
       "      <td>...</td>\n",
       "      <td>...</td>\n",
       "    </tr>\n",
       "    <tr>\n",
       "      <th>1298</th>\n",
       "      <td>Lenovo</td>\n",
       "      <td>2 in 1 Convertible</td>\n",
       "      <td>14.0</td>\n",
       "      <td>IPS Panel Full HD / Touchscreen 1920x1080</td>\n",
       "      <td>Intel Core i7 6500U 2.5GHz</td>\n",
       "      <td>4</td>\n",
       "      <td>128.0</td>\n",
       "      <td>Intel HD Graphics 520</td>\n",
       "      <td>Windows 10</td>\n",
       "      <td>1.80</td>\n",
       "      <td>577.874880</td>\n",
       "    </tr>\n",
       "    <tr>\n",
       "      <th>1299</th>\n",
       "      <td>Lenovo</td>\n",
       "      <td>2 in 1 Convertible</td>\n",
       "      <td>13.3</td>\n",
       "      <td>IPS Panel Quad HD+ / Touchscreen 3200x1800</td>\n",
       "      <td>Intel Core i7 6500U 2.5GHz</td>\n",
       "      <td>16</td>\n",
       "      <td>512.0</td>\n",
       "      <td>Intel HD Graphics 520</td>\n",
       "      <td>Windows 10</td>\n",
       "      <td>1.30</td>\n",
       "      <td>1357.734240</td>\n",
       "    </tr>\n",
       "    <tr>\n",
       "      <th>1300</th>\n",
       "      <td>Lenovo</td>\n",
       "      <td>Notebook</td>\n",
       "      <td>14.0</td>\n",
       "      <td>1366x768</td>\n",
       "      <td>Intel Celeron Dual Core N3050 1.6GHz</td>\n",
       "      <td>2</td>\n",
       "      <td>64.0</td>\n",
       "      <td>Intel HD Graphics</td>\n",
       "      <td>Windows 10</td>\n",
       "      <td>1.50</td>\n",
       "      <td>207.419040</td>\n",
       "    </tr>\n",
       "    <tr>\n",
       "      <th>1301</th>\n",
       "      <td>HP</td>\n",
       "      <td>Notebook</td>\n",
       "      <td>15.6</td>\n",
       "      <td>1366x768</td>\n",
       "      <td>Intel Core i7 6500U 2.5GHz</td>\n",
       "      <td>6</td>\n",
       "      <td>1.0</td>\n",
       "      <td>AMD Radeon R5 M330</td>\n",
       "      <td>Windows 10</td>\n",
       "      <td>2.19</td>\n",
       "      <td>692.000640</td>\n",
       "    </tr>\n",
       "    <tr>\n",
       "      <th>1302</th>\n",
       "      <td>Asus</td>\n",
       "      <td>Notebook</td>\n",
       "      <td>15.6</td>\n",
       "      <td>1366x768</td>\n",
       "      <td>Intel Celeron Dual Core N3050 1.6GHz</td>\n",
       "      <td>4</td>\n",
       "      <td>500.0</td>\n",
       "      <td>Intel HD Graphics</td>\n",
       "      <td>Windows 10</td>\n",
       "      <td>2.20</td>\n",
       "      <td>334.225440</td>\n",
       "    </tr>\n",
       "  </tbody>\n",
       "</table>\n",
       "<p>1273 rows × 11 columns</p>\n",
       "</div>"
      ],
      "text/plain": [
       "     Company            TypeName  ScreenSize_Inches  \\\n",
       "0      Apple           Ultrabook               13.3   \n",
       "1      Apple           Ultrabook               13.3   \n",
       "2         HP            Notebook               15.6   \n",
       "3      Apple           Ultrabook               15.4   \n",
       "4      Apple           Ultrabook               13.3   \n",
       "...      ...                 ...                ...   \n",
       "1298  Lenovo  2 in 1 Convertible               14.0   \n",
       "1299  Lenovo  2 in 1 Convertible               13.3   \n",
       "1300  Lenovo            Notebook               14.0   \n",
       "1301      HP            Notebook               15.6   \n",
       "1302    Asus            Notebook               15.6   \n",
       "\n",
       "                                ScreenResolution  \\\n",
       "0             IPS Panel Retina Display 2560x1600   \n",
       "1                                       1440x900   \n",
       "2                              Full HD 1920x1080   \n",
       "3             IPS Panel Retina Display 2880x1800   \n",
       "4             IPS Panel Retina Display 2560x1600   \n",
       "...                                          ...   \n",
       "1298   IPS Panel Full HD / Touchscreen 1920x1080   \n",
       "1299  IPS Panel Quad HD+ / Touchscreen 3200x1800   \n",
       "1300                                    1366x768   \n",
       "1301                                    1366x768   \n",
       "1302                                    1366x768   \n",
       "\n",
       "                                       Cpu  Memory_GB  Storage  \\\n",
       "0                     Intel Core i5 2.3GHz          8    128.0   \n",
       "1                     Intel Core i5 1.8GHz          8    128.0   \n",
       "2               Intel Core i5 7200U 2.5GHz          8    256.0   \n",
       "3                     Intel Core i7 2.7GHz         16    512.0   \n",
       "4                     Intel Core i5 3.1GHz          8    256.0   \n",
       "...                                    ...        ...      ...   \n",
       "1298            Intel Core i7 6500U 2.5GHz          4    128.0   \n",
       "1299            Intel Core i7 6500U 2.5GHz         16    512.0   \n",
       "1300  Intel Celeron Dual Core N3050 1.6GHz          2     64.0   \n",
       "1301            Intel Core i7 6500U 2.5GHz          6      1.0   \n",
       "1302  Intel Celeron Dual Core N3050 1.6GHz          4    500.0   \n",
       "\n",
       "                               Gpu       OpSys  Weight_Kg    Price_CAD  \n",
       "0     Intel Iris Plus Graphics 640       macOS       1.37  1213.437614  \n",
       "1           Intel HD Graphics 6000       macOS       1.34   814.223894  \n",
       "2            Intel HD Graphics 620       No OS       1.86   520.812000  \n",
       "3               AMD Radeon Pro 455       macOS       1.83  2298.320712  \n",
       "4     Intel Iris Plus Graphics 650       macOS       1.37  1633.628736  \n",
       "...                            ...         ...        ...          ...  \n",
       "1298         Intel HD Graphics 520  Windows 10       1.80   577.874880  \n",
       "1299         Intel HD Graphics 520  Windows 10       1.30  1357.734240  \n",
       "1300             Intel HD Graphics  Windows 10       1.50   207.419040  \n",
       "1301            AMD Radeon R5 M330  Windows 10       2.19   692.000640  \n",
       "1302             Intel HD Graphics  Windows 10       2.20   334.225440  \n",
       "\n",
       "[1273 rows x 11 columns]"
      ]
     },
     "execution_count": 10,
     "metadata": {},
     "output_type": "execute_result"
    }
   ],
   "source": [
    "laptop_data"
   ]
  },
  {
   "cell_type": "markdown",
   "id": "ac6ada9f-cd8a-4dc0-92de-07758e5d091d",
   "metadata": {},
   "source": [
    "### Separation Into Train and Test Data"
   ]
  },
  {
   "cell_type": "markdown",
   "id": "5fb3741d-9c6b-4c00-b9fb-fd7257acd6f8",
   "metadata": {},
   "source": [
    "We separate the data into train data (which will be used to develop the model), and test data (which will be used to gauge the accuracy of the model). The test data will not be seen by the model until it comes the time to test how well it performs."
   ]
  },
  {
   "cell_type": "code",
   "execution_count": 11,
   "id": "ab3a4a74-8268-4594-b3e8-86533f17d4b2",
   "metadata": {
    "tags": []
   },
   "outputs": [],
   "source": [
    "laptop_train, laptop_test = train_test_split(\n",
    "    laptop_data,\n",
    "    test_size=.25,   # Test data will be a quarter of the full data set, train the rest\n",
    ")"
   ]
  },
  {
   "cell_type": "code",
   "execution_count": 13,
   "id": "d5a7d671-8345-4cdd-a2bd-7be9c0034fda",
   "metadata": {
    "tags": []
   },
   "outputs": [
    {
     "data": {
      "text/html": [
       "<div>\n",
       "<style scoped>\n",
       "    .dataframe tbody tr th:only-of-type {\n",
       "        vertical-align: middle;\n",
       "    }\n",
       "\n",
       "    .dataframe tbody tr th {\n",
       "        vertical-align: top;\n",
       "    }\n",
       "\n",
       "    .dataframe thead th {\n",
       "        text-align: right;\n",
       "    }\n",
       "</style>\n",
       "<table border=\"1\" class=\"dataframe\">\n",
       "  <thead>\n",
       "    <tr style=\"text-align: right;\">\n",
       "      <th></th>\n",
       "      <th>Company</th>\n",
       "      <th>TypeName</th>\n",
       "      <th>ScreenSize_Inches</th>\n",
       "      <th>ScreenResolution</th>\n",
       "      <th>Cpu</th>\n",
       "      <th>Memory_GB</th>\n",
       "      <th>Storage</th>\n",
       "      <th>Gpu</th>\n",
       "      <th>OpSys</th>\n",
       "      <th>Weight_Kg</th>\n",
       "      <th>Price_CAD</th>\n",
       "    </tr>\n",
       "  </thead>\n",
       "  <tbody>\n",
       "    <tr>\n",
       "      <th>466</th>\n",
       "      <td>Acer</td>\n",
       "      <td>Notebook</td>\n",
       "      <td>15.6</td>\n",
       "      <td>1366x768</td>\n",
       "      <td>Intel Core i3 6006U 2GHz</td>\n",
       "      <td>4</td>\n",
       "      <td>500.0</td>\n",
       "      <td>Nvidia GeForce GTX 940MX</td>\n",
       "      <td>Windows 10</td>\n",
       "      <td>2.20</td>\n",
       "      <td>424.80144</td>\n",
       "    </tr>\n",
       "    <tr>\n",
       "      <th>1224</th>\n",
       "      <td>Dell</td>\n",
       "      <td>2 in 1 Convertible</td>\n",
       "      <td>15.0</td>\n",
       "      <td>Full HD / Touchscreen 1920x1080</td>\n",
       "      <td>Intel Core i3 7100U 2.4GHz</td>\n",
       "      <td>4</td>\n",
       "      <td>500.0</td>\n",
       "      <td>Intel HD Graphics 620</td>\n",
       "      <td>Windows 10</td>\n",
       "      <td>2.08</td>\n",
       "      <td>461.03184</td>\n",
       "    </tr>\n",
       "    <tr>\n",
       "      <th>240</th>\n",
       "      <td>Lenovo</td>\n",
       "      <td>Notebook</td>\n",
       "      <td>15.6</td>\n",
       "      <td>1366x768</td>\n",
       "      <td>Intel Core i3 6006U 2GHz</td>\n",
       "      <td>8</td>\n",
       "      <td>128.0</td>\n",
       "      <td>Intel HD Graphics 520</td>\n",
       "      <td>Windows 10</td>\n",
       "      <td>7.20</td>\n",
       "      <td>533.49264</td>\n",
       "    </tr>\n",
       "    <tr>\n",
       "      <th>757</th>\n",
       "      <td>HP</td>\n",
       "      <td>Workstation</td>\n",
       "      <td>15.6</td>\n",
       "      <td>Full HD 1920x1080</td>\n",
       "      <td>Intel Core i7 6700HQ 2.6GHz</td>\n",
       "      <td>8</td>\n",
       "      <td>256.0</td>\n",
       "      <td>Nvidia Quadro M1000M</td>\n",
       "      <td>Windows 7</td>\n",
       "      <td>2.59</td>\n",
       "      <td>1413.89136</td>\n",
       "    </tr>\n",
       "    <tr>\n",
       "      <th>147</th>\n",
       "      <td>Asus</td>\n",
       "      <td>Notebook</td>\n",
       "      <td>15.6</td>\n",
       "      <td>Full HD 1920x1080</td>\n",
       "      <td>Intel Celeron Dual Core N3350 1.1GHz</td>\n",
       "      <td>4</td>\n",
       "      <td>1.0</td>\n",
       "      <td>Intel HD Graphics 500</td>\n",
       "      <td>Windows 10</td>\n",
       "      <td>2.00</td>\n",
       "      <td>311.58144</td>\n",
       "    </tr>\n",
       "  </tbody>\n",
       "</table>\n",
       "</div>"
      ],
      "text/plain": [
       "     Company            TypeName  ScreenSize_Inches  \\\n",
       "466     Acer            Notebook               15.6   \n",
       "1224    Dell  2 in 1 Convertible               15.0   \n",
       "240   Lenovo            Notebook               15.6   \n",
       "757       HP         Workstation               15.6   \n",
       "147     Asus            Notebook               15.6   \n",
       "\n",
       "                     ScreenResolution                                   Cpu  \\\n",
       "466                          1366x768              Intel Core i3 6006U 2GHz   \n",
       "1224  Full HD / Touchscreen 1920x1080            Intel Core i3 7100U 2.4GHz   \n",
       "240                          1366x768              Intel Core i3 6006U 2GHz   \n",
       "757                 Full HD 1920x1080           Intel Core i7 6700HQ 2.6GHz   \n",
       "147                 Full HD 1920x1080  Intel Celeron Dual Core N3350 1.1GHz   \n",
       "\n",
       "      Memory_GB  Storage                       Gpu       OpSys  Weight_Kg  \\\n",
       "466           4    500.0  Nvidia GeForce GTX 940MX  Windows 10       2.20   \n",
       "1224          4    500.0     Intel HD Graphics 620  Windows 10       2.08   \n",
       "240           8    128.0     Intel HD Graphics 520  Windows 10       7.20   \n",
       "757           8    256.0      Nvidia Quadro M1000M   Windows 7       2.59   \n",
       "147           4      1.0     Intel HD Graphics 500  Windows 10       2.00   \n",
       "\n",
       "       Price_CAD  \n",
       "466    424.80144  \n",
       "1224   461.03184  \n",
       "240    533.49264  \n",
       "757   1413.89136  \n",
       "147    311.58144  "
      ]
     },
     "execution_count": 13,
     "metadata": {},
     "output_type": "execute_result"
    }
   ],
   "source": [
    "laptop_train.head(5)"
   ]
  },
  {
   "cell_type": "markdown",
   "id": "fc7a7b5a-1b3c-49b4-95e2-bd6312431afb",
   "metadata": {},
   "source": [
    "## Building the Model"
   ]
  },
  {
   "cell_type": "markdown",
   "id": "71172158-8ea8-4bf5-8d88-8ed14532dfcd",
   "metadata": {},
   "source": [
    "(DESCRIPTION)"
   ]
  },
  {
   "cell_type": "code",
   "execution_count": null,
   "id": "d4a2ad4d-93fb-410e-90fa-0c8fe85ce055",
   "metadata": {},
   "outputs": [],
   "source": []
  },
  {
   "cell_type": "markdown",
   "id": "630fd84a-e9d3-4727-8551-36c232ad3e56",
   "metadata": {},
   "source": [
    "## Putting the Model to the Test"
   ]
  },
  {
   "cell_type": "markdown",
   "id": "83d8e343-276b-465d-8240-c04daf3c43e6",
   "metadata": {},
   "source": [
    "(DESCRIPTION)"
   ]
  },
  {
   "cell_type": "code",
   "execution_count": null,
   "id": "0aa91d3f-f199-4c24-959f-5943040dcca4",
   "metadata": {},
   "outputs": [],
   "source": []
  }
 ],
 "metadata": {
  "kernelspec": {
   "display_name": "Python 3 (ipykernel)",
   "language": "python",
   "name": "python3"
  },
  "language_info": {
   "codemirror_mode": {
    "name": "ipython",
    "version": 3
   },
   "file_extension": ".py",
   "mimetype": "text/x-python",
   "name": "python",
   "nbconvert_exporter": "python",
   "pygments_lexer": "ipython3",
   "version": "3.10.8"
  },
  "widgets": {
   "application/vnd.jupyter.widget-state+json": {
    "state": {},
    "version_major": 2,
    "version_minor": 0
   }
  }
 },
 "nbformat": 4,
 "nbformat_minor": 5
}
